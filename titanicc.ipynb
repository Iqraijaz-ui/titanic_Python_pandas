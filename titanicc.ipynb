{
 "cells": [
  {
   "cell_type": "code",
   "execution_count": 2,
   "id": "c2d83f70",
   "metadata": {},
   "outputs": [],
   "source": [
    "%matplotlib inline"
   ]
  },
  {
   "cell_type": "markdown",
   "id": "5e864f08",
   "metadata": {},
   "source": [
    "# Import Laibraries For DataAnalysis"
   ]
  },
  {
   "cell_type": "code",
   "execution_count": 3,
   "id": "99ec78d3",
   "metadata": {},
   "outputs": [],
   "source": [
    "import pandas as pd\n",
    "import numpy as np\n",
    "import seaborn as sns\n",
    "import plotly as pt\n",
    "import matplotlib.pyplot as plt\n"
   ]
  },
  {
   "cell_type": "markdown",
   "id": "a64a1169",
   "metadata": {},
   "source": [
    "# Read or Load Csv Data"
   ]
  },
  {
   "cell_type": "code",
   "execution_count": 4,
   "id": "e51494aa",
   "metadata": {},
   "outputs": [],
   "source": [
    "df = pd.read_csv(\"test_enhanced.csv\")"
   ]
  },
  {
   "cell_type": "markdown",
   "id": "0460777c",
   "metadata": {},
   "source": [
    "# Basic Information of Data"
   ]
  },
  {
   "cell_type": "code",
   "execution_count": 5,
   "id": "76cf1e0a",
   "metadata": {},
   "outputs": [
    {
     "name": "stdout",
     "output_type": "stream",
     "text": [
      "<class 'pandas.core.frame.DataFrame'>\n",
      "RangeIndex: 179 entries, 0 to 178\n",
      "Data columns (total 21 columns):\n",
      " #   Column         Non-Null Count  Dtype  \n",
      "---  ------         --------------  -----  \n",
      " 0   Passengerid    179 non-null    int64  \n",
      " 1   Pclass         179 non-null    int64  \n",
      " 2   Name           179 non-null    object \n",
      " 3   Sex            179 non-null    object \n",
      " 4   Age            179 non-null    float64\n",
      " 5   SibSp          179 non-null    int64  \n",
      " 6   Parch          179 non-null    int64  \n",
      " 7   Ticket         179 non-null    object \n",
      " 8   Fare           179 non-null    float64\n",
      " 9   Cabin          42 non-null     object \n",
      " 10  Embarked       179 non-null    object \n",
      " 11  Title          179 non-null    object \n",
      " 12  FamilySize     179 non-null    int64  \n",
      " 13  IsAlone        179 non-null    int64  \n",
      " 14  Deck           179 non-null    object \n",
      " 15  AgeGroup       179 non-null    object \n",
      " 16  FareGroup      179 non-null    object \n",
      " 17  EmbarkedClass  179 non-null    object \n",
      " 18  GenderClass    179 non-null    object \n",
      " 19  TitleClass     179 non-null    object \n",
      " 20  FamilyClass    179 non-null    int64  \n",
      "dtypes: float64(2), int64(7), object(12)\n",
      "memory usage: 29.5+ KB\n"
     ]
    }
   ],
   "source": [
    "df.info()"
   ]
  },
  {
   "cell_type": "markdown",
   "id": "84dc74d3",
   "metadata": {},
   "source": [
    "# Sample Data"
   ]
  },
  {
   "cell_type": "code",
   "execution_count": 6,
   "id": "77487cf8",
   "metadata": {},
   "outputs": [
    {
     "data": {
      "text/html": [
       "<div>\n",
       "<style scoped>\n",
       "    .dataframe tbody tr th:only-of-type {\n",
       "        vertical-align: middle;\n",
       "    }\n",
       "\n",
       "    .dataframe tbody tr th {\n",
       "        vertical-align: top;\n",
       "    }\n",
       "\n",
       "    .dataframe thead th {\n",
       "        text-align: right;\n",
       "    }\n",
       "</style>\n",
       "<table border=\"1\" class=\"dataframe\">\n",
       "  <thead>\n",
       "    <tr style=\"text-align: right;\">\n",
       "      <th></th>\n",
       "      <th>Passengerid</th>\n",
       "      <th>Pclass</th>\n",
       "      <th>Name</th>\n",
       "      <th>Sex</th>\n",
       "      <th>Age</th>\n",
       "      <th>SibSp</th>\n",
       "      <th>Parch</th>\n",
       "      <th>Ticket</th>\n",
       "      <th>Fare</th>\n",
       "      <th>Cabin</th>\n",
       "      <th>...</th>\n",
       "      <th>Title</th>\n",
       "      <th>FamilySize</th>\n",
       "      <th>IsAlone</th>\n",
       "      <th>Deck</th>\n",
       "      <th>AgeGroup</th>\n",
       "      <th>FareGroup</th>\n",
       "      <th>EmbarkedClass</th>\n",
       "      <th>GenderClass</th>\n",
       "      <th>TitleClass</th>\n",
       "      <th>FamilyClass</th>\n",
       "    </tr>\n",
       "  </thead>\n",
       "  <tbody>\n",
       "    <tr>\n",
       "      <th>0</th>\n",
       "      <td>713</td>\n",
       "      <td>1</td>\n",
       "      <td>Taylor, Mr. Elmer Zebley</td>\n",
       "      <td>male</td>\n",
       "      <td>48.0</td>\n",
       "      <td>1</td>\n",
       "      <td>0</td>\n",
       "      <td>19996</td>\n",
       "      <td>52.0000</td>\n",
       "      <td>C126</td>\n",
       "      <td>...</td>\n",
       "      <td>Mr</td>\n",
       "      <td>2</td>\n",
       "      <td>0</td>\n",
       "      <td>C</td>\n",
       "      <td>Adult</td>\n",
       "      <td>High</td>\n",
       "      <td>S1</td>\n",
       "      <td>male1</td>\n",
       "      <td>Mr1</td>\n",
       "      <td>21</td>\n",
       "    </tr>\n",
       "    <tr>\n",
       "      <th>1</th>\n",
       "      <td>714</td>\n",
       "      <td>3</td>\n",
       "      <td>Larsson, Mr. August Viktor</td>\n",
       "      <td>male</td>\n",
       "      <td>29.0</td>\n",
       "      <td>0</td>\n",
       "      <td>0</td>\n",
       "      <td>7545</td>\n",
       "      <td>9.4833</td>\n",
       "      <td>NaN</td>\n",
       "      <td>...</td>\n",
       "      <td>Mr</td>\n",
       "      <td>1</td>\n",
       "      <td>1</td>\n",
       "      <td>U</td>\n",
       "      <td>Young Adult</td>\n",
       "      <td>Medium-Low</td>\n",
       "      <td>S3</td>\n",
       "      <td>male3</td>\n",
       "      <td>Mr3</td>\n",
       "      <td>13</td>\n",
       "    </tr>\n",
       "    <tr>\n",
       "      <th>2</th>\n",
       "      <td>715</td>\n",
       "      <td>2</td>\n",
       "      <td>Greenberg, Mr. Samuel</td>\n",
       "      <td>male</td>\n",
       "      <td>52.0</td>\n",
       "      <td>0</td>\n",
       "      <td>0</td>\n",
       "      <td>250647</td>\n",
       "      <td>13.0000</td>\n",
       "      <td>NaN</td>\n",
       "      <td>...</td>\n",
       "      <td>Mr</td>\n",
       "      <td>1</td>\n",
       "      <td>1</td>\n",
       "      <td>U</td>\n",
       "      <td>Adult</td>\n",
       "      <td>Medium-Low</td>\n",
       "      <td>S2</td>\n",
       "      <td>male2</td>\n",
       "      <td>Mr2</td>\n",
       "      <td>12</td>\n",
       "    </tr>\n",
       "    <tr>\n",
       "      <th>3</th>\n",
       "      <td>716</td>\n",
       "      <td>3</td>\n",
       "      <td>Soholt, Mr. Peter Andreas Lauritz Andersen</td>\n",
       "      <td>male</td>\n",
       "      <td>19.0</td>\n",
       "      <td>0</td>\n",
       "      <td>0</td>\n",
       "      <td>348124</td>\n",
       "      <td>7.6500</td>\n",
       "      <td>F G73</td>\n",
       "      <td>...</td>\n",
       "      <td>Mr</td>\n",
       "      <td>1</td>\n",
       "      <td>1</td>\n",
       "      <td>F</td>\n",
       "      <td>Young Adult</td>\n",
       "      <td>Low</td>\n",
       "      <td>S3</td>\n",
       "      <td>male3</td>\n",
       "      <td>Mr3</td>\n",
       "      <td>13</td>\n",
       "    </tr>\n",
       "    <tr>\n",
       "      <th>4</th>\n",
       "      <td>717</td>\n",
       "      <td>1</td>\n",
       "      <td>Endres, Miss. Caroline Louise</td>\n",
       "      <td>female</td>\n",
       "      <td>38.0</td>\n",
       "      <td>0</td>\n",
       "      <td>0</td>\n",
       "      <td>PC 17757</td>\n",
       "      <td>227.5250</td>\n",
       "      <td>C45</td>\n",
       "      <td>...</td>\n",
       "      <td>Miss</td>\n",
       "      <td>1</td>\n",
       "      <td>1</td>\n",
       "      <td>C</td>\n",
       "      <td>Adult</td>\n",
       "      <td>High</td>\n",
       "      <td>C1</td>\n",
       "      <td>female1</td>\n",
       "      <td>Miss1</td>\n",
       "      <td>11</td>\n",
       "    </tr>\n",
       "  </tbody>\n",
       "</table>\n",
       "<p>5 rows × 21 columns</p>\n",
       "</div>"
      ],
      "text/plain": [
       "   Passengerid  Pclass                                        Name     Sex  \\\n",
       "0          713       1                    Taylor, Mr. Elmer Zebley    male   \n",
       "1          714       3                  Larsson, Mr. August Viktor    male   \n",
       "2          715       2                       Greenberg, Mr. Samuel    male   \n",
       "3          716       3  Soholt, Mr. Peter Andreas Lauritz Andersen    male   \n",
       "4          717       1               Endres, Miss. Caroline Louise  female   \n",
       "\n",
       "    Age  SibSp  Parch    Ticket      Fare  Cabin  ... Title FamilySize  \\\n",
       "0  48.0      1      0     19996   52.0000   C126  ...    Mr          2   \n",
       "1  29.0      0      0      7545    9.4833    NaN  ...    Mr          1   \n",
       "2  52.0      0      0    250647   13.0000    NaN  ...    Mr          1   \n",
       "3  19.0      0      0    348124    7.6500  F G73  ...    Mr          1   \n",
       "4  38.0      0      0  PC 17757  227.5250    C45  ...  Miss          1   \n",
       "\n",
       "   IsAlone  Deck     AgeGroup   FareGroup EmbarkedClass GenderClass  \\\n",
       "0        0     C        Adult        High            S1       male1   \n",
       "1        1     U  Young Adult  Medium-Low            S3       male3   \n",
       "2        1     U        Adult  Medium-Low            S2       male2   \n",
       "3        1     F  Young Adult         Low            S3       male3   \n",
       "4        1     C        Adult        High            C1     female1   \n",
       "\n",
       "  TitleClass FamilyClass  \n",
       "0        Mr1          21  \n",
       "1        Mr3          13  \n",
       "2        Mr2          12  \n",
       "3        Mr3          13  \n",
       "4      Miss1          11  \n",
       "\n",
       "[5 rows x 21 columns]"
      ]
     },
     "execution_count": 6,
     "metadata": {},
     "output_type": "execute_result"
    }
   ],
   "source": [
    "df.head()"
   ]
  },
  {
   "cell_type": "markdown",
   "id": "e37589c7",
   "metadata": {},
   "source": [
    "# Number of Rows and Columns"
   ]
  },
  {
   "cell_type": "code",
   "execution_count": 7,
   "id": "ac4ce550",
   "metadata": {},
   "outputs": [
    {
     "name": "stdout",
     "output_type": "stream",
     "text": [
      "(179, 21)\n"
     ]
    }
   ],
   "source": [
    "print(df.shape)"
   ]
  },
  {
   "cell_type": "markdown",
   "id": "138f5c5e",
   "metadata": {},
   "source": [
    "# Static Summary of the Data"
   ]
  },
  {
   "cell_type": "code",
   "execution_count": 8,
   "id": "f64156e6",
   "metadata": {},
   "outputs": [
    {
     "data": {
      "text/html": [
       "<div>\n",
       "<style scoped>\n",
       "    .dataframe tbody tr th:only-of-type {\n",
       "        vertical-align: middle;\n",
       "    }\n",
       "\n",
       "    .dataframe tbody tr th {\n",
       "        vertical-align: top;\n",
       "    }\n",
       "\n",
       "    .dataframe thead th {\n",
       "        text-align: right;\n",
       "    }\n",
       "</style>\n",
       "<table border=\"1\" class=\"dataframe\">\n",
       "  <thead>\n",
       "    <tr style=\"text-align: right;\">\n",
       "      <th></th>\n",
       "      <th>Passengerid</th>\n",
       "      <th>Pclass</th>\n",
       "      <th>Age</th>\n",
       "      <th>SibSp</th>\n",
       "      <th>Parch</th>\n",
       "      <th>Fare</th>\n",
       "      <th>FamilySize</th>\n",
       "      <th>IsAlone</th>\n",
       "      <th>FamilyClass</th>\n",
       "    </tr>\n",
       "  </thead>\n",
       "  <tbody>\n",
       "    <tr>\n",
       "      <th>count</th>\n",
       "      <td>179.000000</td>\n",
       "      <td>179.000000</td>\n",
       "      <td>179.000000</td>\n",
       "      <td>179.000000</td>\n",
       "      <td>179.000000</td>\n",
       "      <td>179.000000</td>\n",
       "      <td>179.000000</td>\n",
       "      <td>179.000000</td>\n",
       "      <td>179.000000</td>\n",
       "    </tr>\n",
       "    <tr>\n",
       "      <th>mean</th>\n",
       "      <td>802.000000</td>\n",
       "      <td>2.335196</td>\n",
       "      <td>28.365475</td>\n",
       "      <td>0.502793</td>\n",
       "      <td>0.379888</td>\n",
       "      <td>30.989710</td>\n",
       "      <td>1.882682</td>\n",
       "      <td>0.642458</td>\n",
       "      <td>21.162011</td>\n",
       "    </tr>\n",
       "    <tr>\n",
       "      <th>std</th>\n",
       "      <td>51.816986</td>\n",
       "      <td>0.827506</td>\n",
       "      <td>13.210299</td>\n",
       "      <td>1.246903</td>\n",
       "      <td>0.779540</td>\n",
       "      <td>53.688977</td>\n",
       "      <td>1.749055</td>\n",
       "      <td>0.480621</td>\n",
       "      <td>17.551898</td>\n",
       "    </tr>\n",
       "    <tr>\n",
       "      <th>min</th>\n",
       "      <td>713.000000</td>\n",
       "      <td>1.000000</td>\n",
       "      <td>0.420000</td>\n",
       "      <td>0.000000</td>\n",
       "      <td>0.000000</td>\n",
       "      <td>0.000000</td>\n",
       "      <td>1.000000</td>\n",
       "      <td>0.000000</td>\n",
       "      <td>11.000000</td>\n",
       "    </tr>\n",
       "    <tr>\n",
       "      <th>25%</th>\n",
       "      <td>757.500000</td>\n",
       "      <td>2.000000</td>\n",
       "      <td>20.000000</td>\n",
       "      <td>0.000000</td>\n",
       "      <td>0.000000</td>\n",
       "      <td>7.895800</td>\n",
       "      <td>1.000000</td>\n",
       "      <td>0.000000</td>\n",
       "      <td>13.000000</td>\n",
       "    </tr>\n",
       "    <tr>\n",
       "      <th>50%</th>\n",
       "      <td>802.000000</td>\n",
       "      <td>3.000000</td>\n",
       "      <td>27.000000</td>\n",
       "      <td>0.000000</td>\n",
       "      <td>0.000000</td>\n",
       "      <td>13.000000</td>\n",
       "      <td>1.000000</td>\n",
       "      <td>1.000000</td>\n",
       "      <td>13.000000</td>\n",
       "    </tr>\n",
       "    <tr>\n",
       "      <th>75%</th>\n",
       "      <td>846.500000</td>\n",
       "      <td>3.000000</td>\n",
       "      <td>34.000000</td>\n",
       "      <td>1.000000</td>\n",
       "      <td>0.000000</td>\n",
       "      <td>30.000000</td>\n",
       "      <td>2.000000</td>\n",
       "      <td>1.000000</td>\n",
       "      <td>22.500000</td>\n",
       "    </tr>\n",
       "    <tr>\n",
       "      <th>max</th>\n",
       "      <td>891.000000</td>\n",
       "      <td>3.000000</td>\n",
       "      <td>74.000000</td>\n",
       "      <td>8.000000</td>\n",
       "      <td>5.000000</td>\n",
       "      <td>512.329200</td>\n",
       "      <td>11.000000</td>\n",
       "      <td>1.000000</td>\n",
       "      <td>113.000000</td>\n",
       "    </tr>\n",
       "  </tbody>\n",
       "</table>\n",
       "</div>"
      ],
      "text/plain": [
       "       Passengerid      Pclass         Age       SibSp       Parch  \\\n",
       "count   179.000000  179.000000  179.000000  179.000000  179.000000   \n",
       "mean    802.000000    2.335196   28.365475    0.502793    0.379888   \n",
       "std      51.816986    0.827506   13.210299    1.246903    0.779540   \n",
       "min     713.000000    1.000000    0.420000    0.000000    0.000000   \n",
       "25%     757.500000    2.000000   20.000000    0.000000    0.000000   \n",
       "50%     802.000000    3.000000   27.000000    0.000000    0.000000   \n",
       "75%     846.500000    3.000000   34.000000    1.000000    0.000000   \n",
       "max     891.000000    3.000000   74.000000    8.000000    5.000000   \n",
       "\n",
       "             Fare  FamilySize     IsAlone  FamilyClass  \n",
       "count  179.000000  179.000000  179.000000   179.000000  \n",
       "mean    30.989710    1.882682    0.642458    21.162011  \n",
       "std     53.688977    1.749055    0.480621    17.551898  \n",
       "min      0.000000    1.000000    0.000000    11.000000  \n",
       "25%      7.895800    1.000000    0.000000    13.000000  \n",
       "50%     13.000000    1.000000    1.000000    13.000000  \n",
       "75%     30.000000    2.000000    1.000000    22.500000  \n",
       "max    512.329200   11.000000    1.000000   113.000000  "
      ]
     },
     "execution_count": 8,
     "metadata": {},
     "output_type": "execute_result"
    }
   ],
   "source": [
    "df.describe()"
   ]
  },
  {
   "cell_type": "markdown",
   "id": "6ee55adb",
   "metadata": {},
   "source": [
    "# Y-Data Profiling"
   ]
  },
  {
   "cell_type": "code",
   "execution_count": 9,
   "id": "a14ca85d",
   "metadata": {},
   "outputs": [
    {
     "name": "stderr",
     "output_type": "stream",
     "text": [
      "c:\\Users\\Kashif\\miniconda3\\envs\\profiling\\Lib\\site-packages\\tqdm\\auto.py:21: TqdmWarning: IProgress not found. Please update jupyter and ipywidgets. See https://ipywidgets.readthedocs.io/en/stable/user_install.html\n",
      "  from .autonotebook import tqdm as notebook_tqdm\n"
     ]
    },
    {
     "data": {
      "text/html": [
       "\n",
       "            <div>\n",
       "                <ins><a href=\"https://ydata.ai/register\">Upgrade to ydata-sdk</a></ins>\n",
       "                <p>\n",
       "                    Improve your data and profiling with ydata-sdk, featuring data quality scoring, redundancy detection, outlier identification, text validation, and synthetic data generation.\n",
       "                </p>\n",
       "            </div>\n",
       "            "
      ],
      "text/plain": [
       "<IPython.core.display.HTML object>"
      ]
     },
     "metadata": {},
     "output_type": "display_data"
    },
    {
     "name": "stderr",
     "output_type": "stream",
     "text": [
      "100%|██████████| 21/21 [00:00<00:00, 34.85it/s]0<00:00, 27.21it/s, Describe variable: FamilyClass]  \n",
      "Summarize dataset: 100%|██████████| 66/66 [00:10<00:00,  6.52it/s, Completed]                       \n",
      "Generate report structure: 100%|██████████| 1/1 [00:14<00:00, 14.63s/it]\n",
      "Render HTML: 100%|██████████| 1/1 [00:03<00:00,  3.20s/it]\n",
      "Export report to file: 100%|██████████| 1/1 [00:00<00:00, 35.74it/s]\n"
     ]
    }
   ],
   "source": [
    "from ydata_profiling import ProfileReport\n",
    "profile = ProfileReport(df, title=\"Titanic Profiling Report\")\n",
    "profile.to_file(\"titanic_report.html\")\n"
   ]
  },
  {
   "cell_type": "markdown",
   "id": "ec78f3ce",
   "metadata": {},
   "source": [
    "# Handle Missing Values"
   ]
  },
  {
   "cell_type": "code",
   "execution_count": 10,
   "id": "6e7d80a0",
   "metadata": {},
   "outputs": [
    {
     "name": "stdout",
     "output_type": "stream",
     "text": [
      "Passengerid        0\n",
      "Pclass             0\n",
      "Name               0\n",
      "Sex                0\n",
      "Age                0\n",
      "SibSp              0\n",
      "Parch              0\n",
      "Ticket             0\n",
      "Fare               0\n",
      "Cabin            137\n",
      "Embarked           0\n",
      "Title              0\n",
      "FamilySize         0\n",
      "IsAlone            0\n",
      "Deck               0\n",
      "AgeGroup           0\n",
      "FareGroup          0\n",
      "EmbarkedClass      0\n",
      "GenderClass        0\n",
      "TitleClass         0\n",
      "FamilyClass        0\n",
      "dtype: int64\n"
     ]
    }
   ],
   "source": [
    "#Check the Null values from all the dataset\n",
    "print(df.isnull().sum())"
   ]
  },
  {
   "cell_type": "code",
   "execution_count": 11,
   "id": "d72ae53b",
   "metadata": {},
   "outputs": [],
   "source": [
    "#Fill 0 where null value  occur\n",
    "df['Cabin'] = df['Cabin'].fillna(\"0\")"
   ]
  },
  {
   "cell_type": "code",
   "execution_count": 12,
   "id": "4e32a353",
   "metadata": {},
   "outputs": [],
   "source": [
    "# Make another column \n",
    "df['HasCabin'] = df['Cabin'].apply(\n",
    "    lambda x: \"No Cabin\" if pd.isna(x) or x in [0, \"0\", \"No Cabin\"] else \"Had Cabin\"\n",
    ")\n"
   ]
  },
  {
   "cell_type": "code",
   "execution_count": 13,
   "id": "a5adecd4",
   "metadata": {},
   "outputs": [
    {
     "name": "stdout",
     "output_type": "stream",
     "text": [
      "HasCabin\n",
      "No Cabin     137\n",
      "Had Cabin     42\n",
      "Name: count, dtype: int64\n"
     ]
    }
   ],
   "source": [
    "# Check Values count of the HasCabin Column\n",
    "print(df['HasCabin'].value_counts())"
   ]
  },
  {
   "cell_type": "markdown",
   "id": "7475506b",
   "metadata": {},
   "source": [
    "# Check Duplicatees"
   ]
  },
  {
   "cell_type": "code",
   "execution_count": 14,
   "id": "f438041d",
   "metadata": {},
   "outputs": [
    {
     "name": "stdout",
     "output_type": "stream",
     "text": [
      "Duplicate rows: 0\n"
     ]
    }
   ],
   "source": [
    "#  Check Duplicates\n",
    "print(\"Duplicate rows:\", df.duplicated().sum())\n"
   ]
  },
  {
   "cell_type": "markdown",
   "id": "15b20893",
   "metadata": {},
   "source": [
    "# Replace Values"
   ]
  },
  {
   "cell_type": "code",
   "execution_count": 15,
   "id": "d895e137",
   "metadata": {},
   "outputs": [
    {
     "name": "stdout",
     "output_type": "stream",
     "text": [
      "      Ticket   Ticket_No\n",
      "0      19996   NUM_19996\n",
      "1       7545    NUM_7545\n",
      "2     250647  NUM_250647\n",
      "3     348124  NUM_348124\n",
      "4   PC 17757    PC 17757\n",
      "5      34218   NUM_34218\n",
      "6      36568   NUM_36568\n",
      "7     347062  NUM_347062\n",
      "8     248727  NUM_248727\n",
      "9     350048  NUM_350048\n",
      "10     12233   NUM_12233\n",
      "11    250643  NUM_250643\n",
      "12    113806  NUM_113806\n",
      "13    315094  NUM_315094\n",
      "14     31027   NUM_31027\n"
     ]
    }
   ],
   "source": [
    "# change column type\n",
    "df['Ticket'] = df['Ticket'].astype(str)\n",
    "# Replace the Values that have just num like (92821) this replace \n",
    "# them  with Num_ at their start soo they are looking like ticketnum\n",
    "df['Ticket_No'] = df['Ticket'].apply(lambda x: \"NUM_\" + x if x.isdigit() else x)\n",
    "\n",
    "# Check result\n",
    "print(df[['Ticket', 'Ticket_No']].head(15))"
   ]
  },
  {
   "cell_type": "code",
   "execution_count": 16,
   "id": "ec5fe6cb",
   "metadata": {},
   "outputs": [],
   "source": [
    "# Replace the P class with OrdinalNumbers\n",
    "df['Pclass'] = df['Pclass'].replace({1: '1st', 2: '2nd', 3: '3rd'})"
   ]
  },
  {
   "cell_type": "code",
   "execution_count": 17,
   "id": "efbaa787",
   "metadata": {},
   "outputs": [],
   "source": [
    "# Replace Alphabtes with full name\n",
    "df['Embarked'] = df['Embarked'].replace({'C': 'Cherbourg', 'Q': 'Queenstown', 'S': 'Southampton'})"
   ]
  },
  {
   "cell_type": "markdown",
   "id": "48c23eb6",
   "metadata": {},
   "source": [
    "# Change Type"
   ]
  },
  {
   "cell_type": "code",
   "execution_count": 18,
   "id": "8ab40d97",
   "metadata": {},
   "outputs": [],
   "source": [
    "#change the type of columns fare and age bcz its float num\n",
    "\n",
    "df['Age']= df['Age'].astype(int)\n",
    "df['Fare'] = df['Fare'].astype(int)"
   ]
  },
  {
   "cell_type": "markdown",
   "id": "9424733e",
   "metadata": {},
   "source": [
    "# Load Another CSV file"
   ]
  },
  {
   "cell_type": "code",
   "execution_count": 19,
   "id": "a3b60247",
   "metadata": {},
   "outputs": [],
   "source": [
    "dg =pd.read_csv('train_enhanced.csv')"
   ]
  },
  {
   "cell_type": "markdown",
   "id": "7e0e0db9",
   "metadata": {},
   "source": [
    "# Basic information about dataset"
   ]
  },
  {
   "cell_type": "code",
   "execution_count": 20,
   "id": "167064ae",
   "metadata": {},
   "outputs": [
    {
     "name": "stdout",
     "output_type": "stream",
     "text": [
      "<class 'pandas.core.frame.DataFrame'>\n",
      "RangeIndex: 179 entries, 0 to 178\n",
      "Data columns (total 23 columns):\n",
      " #   Column         Non-Null Count  Dtype \n",
      "---  ------         --------------  ----- \n",
      " 0   Passengerid    179 non-null    int64 \n",
      " 1   Pclass         179 non-null    object\n",
      " 2   Name           179 non-null    object\n",
      " 3   Sex            179 non-null    object\n",
      " 4   Age            179 non-null    int64 \n",
      " 5   SibSp          179 non-null    int64 \n",
      " 6   Parch          179 non-null    int64 \n",
      " 7   Ticket         179 non-null    object\n",
      " 8   Fare           179 non-null    int64 \n",
      " 9   Cabin          179 non-null    object\n",
      " 10  Embarked       179 non-null    object\n",
      " 11  Title          179 non-null    object\n",
      " 12  FamilySize     179 non-null    int64 \n",
      " 13  IsAlone        179 non-null    int64 \n",
      " 14  Deck           179 non-null    object\n",
      " 15  AgeGroup       179 non-null    object\n",
      " 16  FareGroup      179 non-null    object\n",
      " 17  EmbarkedClass  179 non-null    object\n",
      " 18  GenderClass    179 non-null    object\n",
      " 19  TitleClass     179 non-null    object\n",
      " 20  FamilyClass    179 non-null    int64 \n",
      " 21  HasCabin       179 non-null    object\n",
      " 22  Ticket_No      179 non-null    object\n",
      "dtypes: int64(8), object(15)\n",
      "memory usage: 32.3+ KB\n"
     ]
    }
   ],
   "source": [
    "df.info()"
   ]
  },
  {
   "cell_type": "markdown",
   "id": "b1ab8b12",
   "metadata": {},
   "source": [
    "# Check Num of Rows and coulmns"
   ]
  },
  {
   "cell_type": "code",
   "execution_count": 21,
   "id": "5775ceff",
   "metadata": {},
   "outputs": [
    {
     "name": "stdout",
     "output_type": "stream",
     "text": [
      "(712, 22)\n"
     ]
    }
   ],
   "source": [
    "print(dg.shape)"
   ]
  },
  {
   "cell_type": "markdown",
   "id": "0962b5c7",
   "metadata": {},
   "source": [
    "# Sample of Data"
   ]
  },
  {
   "cell_type": "code",
   "execution_count": 22,
   "id": "8c1548f9",
   "metadata": {},
   "outputs": [
    {
     "data": {
      "text/html": [
       "<div>\n",
       "<style scoped>\n",
       "    .dataframe tbody tr th:only-of-type {\n",
       "        vertical-align: middle;\n",
       "    }\n",
       "\n",
       "    .dataframe tbody tr th {\n",
       "        vertical-align: top;\n",
       "    }\n",
       "\n",
       "    .dataframe thead th {\n",
       "        text-align: right;\n",
       "    }\n",
       "</style>\n",
       "<table border=\"1\" class=\"dataframe\">\n",
       "  <thead>\n",
       "    <tr style=\"text-align: right;\">\n",
       "      <th></th>\n",
       "      <th>Passengerid</th>\n",
       "      <th>Pclass</th>\n",
       "      <th>Name</th>\n",
       "      <th>Sex</th>\n",
       "      <th>Age</th>\n",
       "      <th>SibSp</th>\n",
       "      <th>Parch</th>\n",
       "      <th>Ticket</th>\n",
       "      <th>Fare</th>\n",
       "      <th>Cabin</th>\n",
       "      <th>...</th>\n",
       "      <th>IsAlone</th>\n",
       "      <th>Deck</th>\n",
       "      <th>AgeGroup</th>\n",
       "      <th>FareGroup</th>\n",
       "      <th>EmbarkedClass</th>\n",
       "      <th>GenderClass</th>\n",
       "      <th>TitleClass</th>\n",
       "      <th>FamilyClass</th>\n",
       "      <th>HasCabin</th>\n",
       "      <th>Ticket_No</th>\n",
       "    </tr>\n",
       "  </thead>\n",
       "  <tbody>\n",
       "    <tr>\n",
       "      <th>0</th>\n",
       "      <td>713</td>\n",
       "      <td>1st</td>\n",
       "      <td>Taylor, Mr. Elmer Zebley</td>\n",
       "      <td>male</td>\n",
       "      <td>48</td>\n",
       "      <td>1</td>\n",
       "      <td>0</td>\n",
       "      <td>19996</td>\n",
       "      <td>52</td>\n",
       "      <td>C126</td>\n",
       "      <td>...</td>\n",
       "      <td>0</td>\n",
       "      <td>C</td>\n",
       "      <td>Adult</td>\n",
       "      <td>High</td>\n",
       "      <td>S1</td>\n",
       "      <td>male1</td>\n",
       "      <td>Mr1</td>\n",
       "      <td>21</td>\n",
       "      <td>Had Cabin</td>\n",
       "      <td>NUM_19996</td>\n",
       "    </tr>\n",
       "    <tr>\n",
       "      <th>1</th>\n",
       "      <td>714</td>\n",
       "      <td>3rd</td>\n",
       "      <td>Larsson, Mr. August Viktor</td>\n",
       "      <td>male</td>\n",
       "      <td>29</td>\n",
       "      <td>0</td>\n",
       "      <td>0</td>\n",
       "      <td>7545</td>\n",
       "      <td>9</td>\n",
       "      <td>0</td>\n",
       "      <td>...</td>\n",
       "      <td>1</td>\n",
       "      <td>U</td>\n",
       "      <td>Young Adult</td>\n",
       "      <td>Medium-Low</td>\n",
       "      <td>S3</td>\n",
       "      <td>male3</td>\n",
       "      <td>Mr3</td>\n",
       "      <td>13</td>\n",
       "      <td>No Cabin</td>\n",
       "      <td>NUM_7545</td>\n",
       "    </tr>\n",
       "    <tr>\n",
       "      <th>2</th>\n",
       "      <td>715</td>\n",
       "      <td>2nd</td>\n",
       "      <td>Greenberg, Mr. Samuel</td>\n",
       "      <td>male</td>\n",
       "      <td>52</td>\n",
       "      <td>0</td>\n",
       "      <td>0</td>\n",
       "      <td>250647</td>\n",
       "      <td>13</td>\n",
       "      <td>0</td>\n",
       "      <td>...</td>\n",
       "      <td>1</td>\n",
       "      <td>U</td>\n",
       "      <td>Adult</td>\n",
       "      <td>Medium-Low</td>\n",
       "      <td>S2</td>\n",
       "      <td>male2</td>\n",
       "      <td>Mr2</td>\n",
       "      <td>12</td>\n",
       "      <td>No Cabin</td>\n",
       "      <td>NUM_250647</td>\n",
       "    </tr>\n",
       "    <tr>\n",
       "      <th>3</th>\n",
       "      <td>716</td>\n",
       "      <td>3rd</td>\n",
       "      <td>Soholt, Mr. Peter Andreas Lauritz Andersen</td>\n",
       "      <td>male</td>\n",
       "      <td>19</td>\n",
       "      <td>0</td>\n",
       "      <td>0</td>\n",
       "      <td>348124</td>\n",
       "      <td>7</td>\n",
       "      <td>F G73</td>\n",
       "      <td>...</td>\n",
       "      <td>1</td>\n",
       "      <td>F</td>\n",
       "      <td>Young Adult</td>\n",
       "      <td>Low</td>\n",
       "      <td>S3</td>\n",
       "      <td>male3</td>\n",
       "      <td>Mr3</td>\n",
       "      <td>13</td>\n",
       "      <td>Had Cabin</td>\n",
       "      <td>NUM_348124</td>\n",
       "    </tr>\n",
       "    <tr>\n",
       "      <th>4</th>\n",
       "      <td>717</td>\n",
       "      <td>1st</td>\n",
       "      <td>Endres, Miss. Caroline Louise</td>\n",
       "      <td>female</td>\n",
       "      <td>38</td>\n",
       "      <td>0</td>\n",
       "      <td>0</td>\n",
       "      <td>PC 17757</td>\n",
       "      <td>227</td>\n",
       "      <td>C45</td>\n",
       "      <td>...</td>\n",
       "      <td>1</td>\n",
       "      <td>C</td>\n",
       "      <td>Adult</td>\n",
       "      <td>High</td>\n",
       "      <td>C1</td>\n",
       "      <td>female1</td>\n",
       "      <td>Miss1</td>\n",
       "      <td>11</td>\n",
       "      <td>Had Cabin</td>\n",
       "      <td>PC 17757</td>\n",
       "    </tr>\n",
       "  </tbody>\n",
       "</table>\n",
       "<p>5 rows × 23 columns</p>\n",
       "</div>"
      ],
      "text/plain": [
       "   Passengerid Pclass                                        Name     Sex  \\\n",
       "0          713    1st                    Taylor, Mr. Elmer Zebley    male   \n",
       "1          714    3rd                  Larsson, Mr. August Viktor    male   \n",
       "2          715    2nd                       Greenberg, Mr. Samuel    male   \n",
       "3          716    3rd  Soholt, Mr. Peter Andreas Lauritz Andersen    male   \n",
       "4          717    1st               Endres, Miss. Caroline Louise  female   \n",
       "\n",
       "   Age  SibSp  Parch    Ticket  Fare  Cabin  ... IsAlone Deck     AgeGroup  \\\n",
       "0   48      1      0     19996    52   C126  ...       0    C        Adult   \n",
       "1   29      0      0      7545     9      0  ...       1    U  Young Adult   \n",
       "2   52      0      0    250647    13      0  ...       1    U        Adult   \n",
       "3   19      0      0    348124     7  F G73  ...       1    F  Young Adult   \n",
       "4   38      0      0  PC 17757   227    C45  ...       1    C        Adult   \n",
       "\n",
       "    FareGroup EmbarkedClass GenderClass TitleClass FamilyClass   HasCabin  \\\n",
       "0        High            S1       male1        Mr1          21  Had Cabin   \n",
       "1  Medium-Low            S3       male3        Mr3          13   No Cabin   \n",
       "2  Medium-Low            S2       male2        Mr2          12   No Cabin   \n",
       "3         Low            S3       male3        Mr3          13  Had Cabin   \n",
       "4        High            C1     female1      Miss1          11  Had Cabin   \n",
       "\n",
       "    Ticket_No  \n",
       "0   NUM_19996  \n",
       "1    NUM_7545  \n",
       "2  NUM_250647  \n",
       "3  NUM_348124  \n",
       "4    PC 17757  \n",
       "\n",
       "[5 rows x 23 columns]"
      ]
     },
     "execution_count": 22,
     "metadata": {},
     "output_type": "execute_result"
    }
   ],
   "source": [
    "df.head()"
   ]
  },
  {
   "cell_type": "markdown",
   "id": "acb42e90",
   "metadata": {},
   "source": [
    "# Change type"
   ]
  },
  {
   "cell_type": "code",
   "execution_count": 23,
   "id": "4f5ae6fe",
   "metadata": {},
   "outputs": [
    {
     "data": {
      "text/html": [
       "<div>\n",
       "<style scoped>\n",
       "    .dataframe tbody tr th:only-of-type {\n",
       "        vertical-align: middle;\n",
       "    }\n",
       "\n",
       "    .dataframe tbody tr th {\n",
       "        vertical-align: top;\n",
       "    }\n",
       "\n",
       "    .dataframe thead th {\n",
       "        text-align: right;\n",
       "    }\n",
       "</style>\n",
       "<table border=\"1\" class=\"dataframe\">\n",
       "  <thead>\n",
       "    <tr style=\"text-align: right;\">\n",
       "      <th></th>\n",
       "      <th>Passengerid</th>\n",
       "      <th>Pclass</th>\n",
       "      <th>Name</th>\n",
       "      <th>Sex</th>\n",
       "      <th>Age</th>\n",
       "      <th>SibSp</th>\n",
       "      <th>Parch</th>\n",
       "      <th>Ticket</th>\n",
       "      <th>Fare</th>\n",
       "      <th>Cabin</th>\n",
       "      <th>...</th>\n",
       "      <th>IsAlone</th>\n",
       "      <th>Deck</th>\n",
       "      <th>AgeGroup</th>\n",
       "      <th>FareGroup</th>\n",
       "      <th>EmbarkedClass</th>\n",
       "      <th>GenderClass</th>\n",
       "      <th>TitleClass</th>\n",
       "      <th>FamilyClass</th>\n",
       "      <th>HasCabin</th>\n",
       "      <th>Ticket_No</th>\n",
       "    </tr>\n",
       "  </thead>\n",
       "  <tbody>\n",
       "    <tr>\n",
       "      <th>0</th>\n",
       "      <td>713</td>\n",
       "      <td>1st</td>\n",
       "      <td>Taylor, Mr. Elmer Zebley</td>\n",
       "      <td>male</td>\n",
       "      <td>48</td>\n",
       "      <td>1</td>\n",
       "      <td>0</td>\n",
       "      <td>19996</td>\n",
       "      <td>52</td>\n",
       "      <td>C126</td>\n",
       "      <td>...</td>\n",
       "      <td>0</td>\n",
       "      <td>C</td>\n",
       "      <td>Adult</td>\n",
       "      <td>High</td>\n",
       "      <td>S1</td>\n",
       "      <td>male1</td>\n",
       "      <td>Mr1</td>\n",
       "      <td>21</td>\n",
       "      <td>Had Cabin</td>\n",
       "      <td>NUM_19996</td>\n",
       "    </tr>\n",
       "    <tr>\n",
       "      <th>1</th>\n",
       "      <td>714</td>\n",
       "      <td>3rd</td>\n",
       "      <td>Larsson, Mr. August Viktor</td>\n",
       "      <td>male</td>\n",
       "      <td>29</td>\n",
       "      <td>0</td>\n",
       "      <td>0</td>\n",
       "      <td>7545</td>\n",
       "      <td>9</td>\n",
       "      <td>0</td>\n",
       "      <td>...</td>\n",
       "      <td>1</td>\n",
       "      <td>U</td>\n",
       "      <td>Young Adult</td>\n",
       "      <td>Medium-Low</td>\n",
       "      <td>S3</td>\n",
       "      <td>male3</td>\n",
       "      <td>Mr3</td>\n",
       "      <td>13</td>\n",
       "      <td>No Cabin</td>\n",
       "      <td>NUM_7545</td>\n",
       "    </tr>\n",
       "    <tr>\n",
       "      <th>2</th>\n",
       "      <td>715</td>\n",
       "      <td>2nd</td>\n",
       "      <td>Greenberg, Mr. Samuel</td>\n",
       "      <td>male</td>\n",
       "      <td>52</td>\n",
       "      <td>0</td>\n",
       "      <td>0</td>\n",
       "      <td>250647</td>\n",
       "      <td>13</td>\n",
       "      <td>0</td>\n",
       "      <td>...</td>\n",
       "      <td>1</td>\n",
       "      <td>U</td>\n",
       "      <td>Adult</td>\n",
       "      <td>Medium-Low</td>\n",
       "      <td>S2</td>\n",
       "      <td>male2</td>\n",
       "      <td>Mr2</td>\n",
       "      <td>12</td>\n",
       "      <td>No Cabin</td>\n",
       "      <td>NUM_250647</td>\n",
       "    </tr>\n",
       "    <tr>\n",
       "      <th>3</th>\n",
       "      <td>716</td>\n",
       "      <td>3rd</td>\n",
       "      <td>Soholt, Mr. Peter Andreas Lauritz Andersen</td>\n",
       "      <td>male</td>\n",
       "      <td>19</td>\n",
       "      <td>0</td>\n",
       "      <td>0</td>\n",
       "      <td>348124</td>\n",
       "      <td>7</td>\n",
       "      <td>F G73</td>\n",
       "      <td>...</td>\n",
       "      <td>1</td>\n",
       "      <td>F</td>\n",
       "      <td>Young Adult</td>\n",
       "      <td>Low</td>\n",
       "      <td>S3</td>\n",
       "      <td>male3</td>\n",
       "      <td>Mr3</td>\n",
       "      <td>13</td>\n",
       "      <td>Had Cabin</td>\n",
       "      <td>NUM_348124</td>\n",
       "    </tr>\n",
       "    <tr>\n",
       "      <th>4</th>\n",
       "      <td>717</td>\n",
       "      <td>1st</td>\n",
       "      <td>Endres, Miss. Caroline Louise</td>\n",
       "      <td>female</td>\n",
       "      <td>38</td>\n",
       "      <td>0</td>\n",
       "      <td>0</td>\n",
       "      <td>PC 17757</td>\n",
       "      <td>227</td>\n",
       "      <td>C45</td>\n",
       "      <td>...</td>\n",
       "      <td>1</td>\n",
       "      <td>C</td>\n",
       "      <td>Adult</td>\n",
       "      <td>High</td>\n",
       "      <td>C1</td>\n",
       "      <td>female1</td>\n",
       "      <td>Miss1</td>\n",
       "      <td>11</td>\n",
       "      <td>Had Cabin</td>\n",
       "      <td>PC 17757</td>\n",
       "    </tr>\n",
       "  </tbody>\n",
       "</table>\n",
       "<p>5 rows × 23 columns</p>\n",
       "</div>"
      ],
      "text/plain": [
       "   Passengerid Pclass                                        Name     Sex  \\\n",
       "0          713    1st                    Taylor, Mr. Elmer Zebley    male   \n",
       "1          714    3rd                  Larsson, Mr. August Viktor    male   \n",
       "2          715    2nd                       Greenberg, Mr. Samuel    male   \n",
       "3          716    3rd  Soholt, Mr. Peter Andreas Lauritz Andersen    male   \n",
       "4          717    1st               Endres, Miss. Caroline Louise  female   \n",
       "\n",
       "   Age  SibSp  Parch    Ticket  Fare  Cabin  ... IsAlone Deck     AgeGroup  \\\n",
       "0   48      1      0     19996    52   C126  ...       0    C        Adult   \n",
       "1   29      0      0      7545     9      0  ...       1    U  Young Adult   \n",
       "2   52      0      0    250647    13      0  ...       1    U        Adult   \n",
       "3   19      0      0    348124     7  F G73  ...       1    F  Young Adult   \n",
       "4   38      0      0  PC 17757   227    C45  ...       1    C        Adult   \n",
       "\n",
       "    FareGroup EmbarkedClass GenderClass TitleClass FamilyClass   HasCabin  \\\n",
       "0        High            S1       male1        Mr1          21  Had Cabin   \n",
       "1  Medium-Low            S3       male3        Mr3          13   No Cabin   \n",
       "2  Medium-Low            S2       male2        Mr2          12   No Cabin   \n",
       "3         Low            S3       male3        Mr3          13  Had Cabin   \n",
       "4        High            C1     female1      Miss1          11  Had Cabin   \n",
       "\n",
       "    Ticket_No  \n",
       "0   NUM_19996  \n",
       "1    NUM_7545  \n",
       "2  NUM_250647  \n",
       "3  NUM_348124  \n",
       "4    PC 17757  \n",
       "\n",
       "[5 rows x 23 columns]"
      ]
     },
     "execution_count": 23,
     "metadata": {},
     "output_type": "execute_result"
    }
   ],
   "source": [
    "df['Fare'] = df['Fare'].astype(int)\n",
    "df.head()"
   ]
  },
  {
   "cell_type": "markdown",
   "id": "40b573ee",
   "metadata": {},
   "source": [
    "# Handle Missing Values"
   ]
  },
  {
   "cell_type": "code",
   "execution_count": 24,
   "id": "a19e22e6",
   "metadata": {},
   "outputs": [
    {
     "name": "stdout",
     "output_type": "stream",
     "text": [
      "Passengerid        0\n",
      "Survived           0\n",
      "Pclass             0\n",
      "Name               0\n",
      "Sex                0\n",
      "Age                0\n",
      "SibSp              0\n",
      "Parch              0\n",
      "Ticket             0\n",
      "Fare               0\n",
      "Cabin            550\n",
      "Embarked           0\n",
      "Title              0\n",
      "FamilySize         0\n",
      "IsAlone            0\n",
      "Deck               0\n",
      "AgeGroup           0\n",
      "FareGroup          0\n",
      "EmbarkedClass      0\n",
      "GenderClass        0\n",
      "TitleClass         0\n",
      "FamilyClass        0\n",
      "dtype: int64\n"
     ]
    }
   ],
   "source": [
    "print(dg.isnull().sum())"
   ]
  },
  {
   "cell_type": "code",
   "execution_count": 25,
   "id": "147c4489",
   "metadata": {},
   "outputs": [
    {
     "name": "stdout",
     "output_type": "stream",
     "text": [
      "HasCabin\n",
      "No Cabin     550\n",
      "Had Cabin    162\n",
      "Name: count, dtype: int64\n"
     ]
    }
   ],
   "source": [
    "#Fill null values with 0\n",
    "dg['Cabin'] = dg['Cabin'].fillna(\"0\")\n",
    "dg['HasCabin'] = dg['Cabin'].apply(\n",
    "    lambda x: \"No Cabin\" if pd.isna(x) or x in [0, \"0\", \"No Cabin\"] else \"Had Cabin\"\n",
    ") #Make a new column and replace 0 with No cabin 1 with had Cabin\n",
    "print(dg['HasCabin'].value_counts())"
   ]
  },
  {
   "cell_type": "code",
   "execution_count": 26,
   "id": "8ace45a5",
   "metadata": {},
   "outputs": [
    {
     "name": "stdout",
     "output_type": "stream",
     "text": [
      "              Ticket         Ticket_No\n",
      "0          A/5 21171         A/5 21171\n",
      "1           PC 17599          PC 17599\n",
      "2   STON/O2. 3101282  STON/O2. 3101282\n",
      "3             113803        NUM_113803\n",
      "4             373450        NUM_373450\n",
      "5             330877        NUM_330877\n",
      "6              17463         NUM_17463\n",
      "7             349909        NUM_349909\n",
      "8             347742        NUM_347742\n",
      "9             237736        NUM_237736\n",
      "10           PP 9549           PP 9549\n",
      "11            113783        NUM_113783\n",
      "12         A/5. 2151         A/5. 2151\n",
      "13            347082        NUM_347082\n",
      "14            350406        NUM_350406\n"
     ]
    }
   ],
   "source": [
    "#change type of Ticket column\n",
    "dg['Ticket'] = dg['Ticket'].astype(str)\n",
    "# # Replace the Values that have just num like (92821) this replace \n",
    "# them  with Num_ at their start soo they are looking like ticketnum\n",
    "dg['Ticket_No'] = dg['Ticket'].apply(lambda x: \"NUM_\" + x if x.isdigit() else x)\n",
    "\n",
    "# Check result\n",
    "print(dg[['Ticket', 'Ticket_No']].head(15))"
   ]
  },
  {
   "cell_type": "code",
   "execution_count": 27,
   "id": "ad6056a6",
   "metadata": {},
   "outputs": [
    {
     "name": "stdout",
     "output_type": "stream",
     "text": [
      "Passengerid      0\n",
      "Survived         0\n",
      "Pclass           0\n",
      "Name             0\n",
      "Sex              0\n",
      "Age              0\n",
      "SibSp            0\n",
      "Parch            0\n",
      "Ticket           0\n",
      "Fare             0\n",
      "Cabin            0\n",
      "Embarked         0\n",
      "Title            0\n",
      "FamilySize       0\n",
      "IsAlone          0\n",
      "Deck             0\n",
      "AgeGroup         0\n",
      "FareGroup        0\n",
      "EmbarkedClass    0\n",
      "GenderClass      0\n",
      "TitleClass       0\n",
      "FamilyClass      0\n",
      "HasCabin         0\n",
      "Ticket_No        0\n",
      "dtype: int64\n"
     ]
    }
   ],
   "source": [
    "# Check again missing Values\n",
    "print(dg.isnull().sum())"
   ]
  },
  {
   "cell_type": "markdown",
   "id": "f861efd6",
   "metadata": {},
   "source": [
    "# Replace Values"
   ]
  },
  {
   "cell_type": "code",
   "execution_count": 28,
   "id": "46ae439a",
   "metadata": {},
   "outputs": [],
   "source": [
    "# Replace the P class with OrdinalNumbers\n",
    "dg['Pclass'] = dg['Pclass'].replace({1: '1st', 2: '2nd', 3: '3rd'})"
   ]
  },
  {
   "cell_type": "code",
   "execution_count": 29,
   "id": "5419e594",
   "metadata": {},
   "outputs": [],
   "source": [
    "# Replace Alphabtes with full name\n",
    "dg['Embarked'] = dg['Embarked'].replace({'C': 'Cherbourg', 'Q': 'Queenstown', 'S': 'Southampton'})"
   ]
  },
  {
   "cell_type": "markdown",
   "id": "08b4fc0a",
   "metadata": {},
   "source": [
    "# Load and Read other CSV file"
   ]
  },
  {
   "cell_type": "code",
   "execution_count": 30,
   "id": "23368c35",
   "metadata": {},
   "outputs": [],
   "source": [
    "\n",
    "dh = pd.read_csv(\"sample_submission.csv\")"
   ]
  },
  {
   "cell_type": "markdown",
   "id": "5580a3e8",
   "metadata": {},
   "source": [
    "# Check Null values"
   ]
  },
  {
   "cell_type": "code",
   "execution_count": 31,
   "id": "4139a192",
   "metadata": {},
   "outputs": [
    {
     "data": {
      "text/plain": [
       "Passengerid    0\n",
       "Survived       0\n",
       "dtype: int64"
      ]
     },
     "execution_count": 31,
     "metadata": {},
     "output_type": "execute_result"
    }
   ],
   "source": [
    "dh.isnull().sum()\n"
   ]
  },
  {
   "cell_type": "markdown",
   "id": "64a8b0a5",
   "metadata": {},
   "source": [
    "#  Queries to analyse this data"
   ]
  },
  {
   "cell_type": "markdown",
   "id": "e576b438",
   "metadata": {},
   "source": [
    "1. What proportion of passengers survived overall?"
   ]
  },
  {
   "cell_type": "code",
   "execution_count": 41,
   "id": "f531b2fd",
   "metadata": {},
   "outputs": [
    {
     "name": "stdout",
     "output_type": "stream",
     "text": [
      "Total passengers: 891\n",
      "Survivors: 278\n",
      "Survival proportion: 0.31200897867564537\n"
     ]
    },
    {
     "data": {
      "image/png": "[encoded data removed]",
      "text/plain": [
       "<Figure size 300x300 with 1 Axes>"
      ]
     },
     "metadata": {},
     "output_type": "display_data"
    }
   ],
   "source": [
    "merged_dg = pd.merge(dg, dh, on=['Passengerid', 'Survived'], how='outer')\n",
    "total_passengers = merged_dg.shape[0] \n",
    "survivors = merged_dg['Survived'].sum()\n",
    "# Calculate survival proportion\n",
    "\n",
    "survival_proportion = survivors / total_passengers\n",
    "\n",
    "print(\"Total passengers:\", total_passengers)\n",
    "print(\"Survivors:\", survivors)\n",
    "print(\"Survival proportion:\", survival_proportion)\n",
    "\n",
    "# Create dataframe for plotting\n",
    "data = pd.DataFrame({\n",
    "    \"Category\": [\"Total Passengers\", \"Survivors\"],\n",
    "    \"Count\": [total_passengers, survivors]\n",
    "})\n",
    "plt.figure(figsize=(3,3))\n",
    "\n",
    "plt.pie(\n",
    "    data[\"Count\"],\n",
    "    labels=data[\"Category\"],\n",
    "    autopct=\"%1.1f%%\",       # show percentages\n",
    "    colors=[\"skyblue\", \"blue\"],\n",
    "    startangle=90,\n",
    ")\n",
    "\n",
    "\n",
    "plt.savefig(\"passengers_vs_survivors.png\", dpi=300, bbox_inches=\"tight\")\n",
    "plt.title(\"Total vs Survival\")\n",
    "plt.show()\n",
    "plt.close()\n"
   ]
  },
  {
   "cell_type": "markdown",
   "id": "320a9478",
   "metadata": {},
   "source": [
    " Q2 Did gender influence survival rates?"
   ]
  },
  {
   "cell_type": "code",
   "execution_count": 38,
   "id": "e6cad7d8",
   "metadata": {},
   "outputs": [
    {
     "name": "stdout",
     "output_type": "stream",
     "text": [
      "      Sex  Survived  Survival Rate (%)\n",
      "0  female  0.605096          60.509554\n",
      "1    male  0.152513          15.251300\n"
     ]
    },
    {
     "data": {
      "image/png": "[encoded data removed]",
      "text/plain": [
       "<Figure size 640x480 with 1 Axes>"
      ]
     },
     "metadata": {},
     "output_type": "display_data"
    }
   ],
   "source": [
    "merge_data = pd.merge(df, dh, on=['Passengerid'], how='outer')\n",
    "merged_df = pd.merge(\n",
    "\tmerge_data[['Passengerid', 'Survived', 'Sex']],\n",
    "\tdg[['Passengerid', 'Survived', 'Sex']],\n",
    "\thow='outer'\n",
    ")\n",
    "survival_rate = merged_df.groupby('Sex')['Survived'].mean().reset_index()\n",
    "survival_rate['Survival Rate (%)'] = survival_rate['Survived'] * 100\n",
    "print(survival_rate)\n",
    "\n",
    "sns.barplot(data=survival_rate, x='Sex', y='Survival Rate (%)')\n",
    "plt.title(\" Sex vs Survived\")\n",
    "plt.savefig(\"sex_vs_survivors.png\", dpi=300, bbox_inches=\"tight\")\n",
    "plt.show()\n",
    "plt.close()"
   ]
  },
  {
   "cell_type": "markdown",
   "id": "e17b318a",
   "metadata": {},
   "source": [
    "3. How did passenger class (Pclass) affect survival?"
   ]
  },
  {
   "cell_type": "code",
   "execution_count": 42,
   "id": "ab49bbf4",
   "metadata": {},
   "outputs": [
    {
     "name": "stdout",
     "output_type": "stream",
     "text": [
      "  Pclass  Survived  Survival Rate (%)\n",
      "0    1st  0.495370          49.537037\n",
      "1    2nd  0.391304          39.130435\n",
      "2    3rd  0.201629          20.162933\n"
     ]
    },
    {
     "data": {
      "image/png": "[encoded data removed]",
      "text/plain": [
       "<Figure size 640x480 with 1 Axes>"
      ]
     },
     "metadata": {},
     "output_type": "display_data"
    }
   ],
   "source": [
    "merge_data = pd.merge(df, dh, on=['Passengerid'], how='outer')\n",
    "merged_df = pd.merge(\n",
    "\tmerge_data[['Passengerid', 'Survived', 'Pclass']],\n",
    "\tdg[['Passengerid', 'Survived', 'Pclass']],\n",
    "\thow='outer'\n",
    ")\n",
    "survival_rate = merged_df.groupby('Pclass')['Survived'].mean().reset_index()\n",
    "survival_rate['Survival Rate (%)'] = survival_rate['Survived'] * 100\n",
    "print(survival_rate)\n",
    "\n",
    "sns.barplot(data=survival_rate, x='Pclass', y='Survival Rate (%)')\n",
    "plt.title(\"Class vs Survived\")\n",
    "plt.savefig(\"Class_vs_survivors.png\", dpi=300, bbox_inches=\"tight\")\n",
    "plt.show()\n",
    "plt.close()"
   ]
  },
  {
   "cell_type": "markdown",
   "id": "00528340",
   "metadata": {},
   "source": [
    " 4. Were children more likely to survive than adults?"
   ]
  },
  {
   "cell_type": "code",
   "execution_count": 43,
   "id": "1937ae98",
   "metadata": {},
   "outputs": [
    {
     "name": "stdout",
     "output_type": "stream",
     "text": [
      "      AgeGroup  Survived  Survival Rate (%)\n",
      "0        Adult  0.327273          32.727273\n",
      "1        Child  0.424658          42.465753\n",
      "2       Senior  0.181818          18.181818\n",
      "3     Teenager  0.398058          39.805825\n",
      "4  Young Adult  0.274841          27.484144\n"
     ]
    },
    {
     "data": {
      "image/png": "[encoded data removed]",
      "text/plain": [
       "<Figure size 640x480 with 1 Axes>"
      ]
     },
     "metadata": {},
     "output_type": "display_data"
    }
   ],
   "source": [
    "merge_data = pd.merge(df, dh, on=['Passengerid'], how='outer')\n",
    "merged_df = pd.merge(\n",
    "\tmerge_data[['Passengerid', 'Survived', 'AgeGroup']],\n",
    "\tdg[['Passengerid', 'Survived', 'AgeGroup']],\n",
    "\thow='outer'\n",
    ")\n",
    "survival_rate = merged_df.groupby('AgeGroup')['Survived'].mean().reset_index()\n",
    "survival_rate['Survival Rate (%)'] = survival_rate['Survived'] * 100\n",
    "print(survival_rate)\n",
    "\n",
    "# Sort the DataFrame by 'Survival Rate (%)' in descending order before plotting\n",
    "survival_rate_sorted = survival_rate.sort_values(by='Survival Rate (%)', ascending=False)\n",
    "sns.barplot(data=survival_rate_sorted, x='AgeGroup', y='Survival Rate (%)')\n",
    "plt.title(\"Age Group Vs Survivors\")\n",
    "plt.savefig(\"Age Group_vs_survivors.png\", dpi=300, bbox_inches=\"tight\")\n",
    "plt.show()\n",
    "plt.close()"
   ]
  },
  {
   "cell_type": "markdown",
   "id": "a2650e08",
   "metadata": {},
   "source": [
    " 5. Did traveling with family impact survival chances?"
   ]
  },
  {
   "cell_type": "code",
   "execution_count": 44,
   "id": "157c9c67",
   "metadata": {},
   "outputs": [
    {
     "name": "stderr",
     "output_type": "stream",
     "text": [
      "C:\\Users\\Kashif\\AppData\\Local\\Temp\\ipykernel_7020\\1204842456.py:16: FutureWarning: The default of observed=False is deprecated and will be changed to True in a future version of pandas. Pass observed=False to retain current behavior or observed=True to adopt the future default and silence this warning.\n",
      "  survival_rate = merged_df.groupby('FamilySize_Binned')['Survived'].mean().reset_index()\n"
     ]
    },
    {
     "name": "stdout",
     "output_type": "stream",
     "text": [
      "  FamilySize_Binned  Survived  Survival Rate (%)\n",
      "0              Solo       NaN                NaN\n",
      "1             Small  0.251397          25.139665\n",
      "2            Medium  0.456274          45.627376\n",
      "3             Large  0.363636          36.363636\n",
      "4        Very Large  0.175000          17.500000\n"
     ]
    },
    {
     "data": {
      "image/png": "[encoded data removed]",
      "text/plain": [
       "<Figure size 640x480 with 1 Axes>"
      ]
     },
     "metadata": {},
     "output_type": "display_data"
    }
   ],
   "source": [
    "merge_data = pd.merge(df, dh, on=['Passengerid'], how='outer')\n",
    "merged_df = pd.merge(\n",
    "    merge_data[['Passengerid', 'Survived', 'FamilySize']],\n",
    "    dg[['Passengerid', 'Survived', 'FamilySize']],\n",
    "    how='outer'\n",
    ")\n",
    "\n",
    "# Define bins and labels\n",
    "bins = [0, 1, 2, 4, 6, 10]  # Adjust bins according to your data\n",
    "labels = ['Solo', 'Small', 'Medium', 'Large', 'Very Large']\n",
    "\n",
    "# Bin FamilySize\n",
    "merged_df['FamilySize_Binned'] = pd.cut(merged_df['FamilySize'], bins=bins, labels=labels, right=False)\n",
    "\n",
    "# Calculate survival rate by binned family size\n",
    "survival_rate = merged_df.groupby('FamilySize_Binned')['Survived'].mean().reset_index()\n",
    "survival_rate['Survival Rate (%)'] = survival_rate['Survived'] * 100\n",
    "\n",
    "# Print the survival rate\n",
    "print(survival_rate)\n",
    "sns.barplot(data=survival_rate, x='FamilySize_Binned', y='Survival Rate (%)')\n",
    "plt.title('Family Size vs Survival Rate')\n",
    "plt.savefig(\"Family Size_vs_survivors.png\", dpi=300, bbox_inches=\"tight\")\n",
    "plt.show()\n",
    "plt.close()"
   ]
  },
  {
   "cell_type": "markdown",
   "id": "b1bcfc11",
   "metadata": {},
   "source": [
    "6. Did  embarkation port influence survival?"
   ]
  },
  {
   "cell_type": "code",
   "execution_count": 50,
   "id": "0563fada",
   "metadata": {},
   "outputs": [
    {
     "name": "stdout",
     "output_type": "stream",
     "text": [
      "      Embarked  Survived  Survival Rate (%)\n",
      "0    Cherbourg  0.446429          44.642857\n",
      "1   Queenstown  0.363636          36.363636\n",
      "2  Southampton  0.270898          27.089783\n"
     ]
    },
    {
     "data": {
      "image/png": "[encoded data removed]",
      "text/plain": [
       "<Figure size 640x480 with 1 Axes>"
      ]
     },
     "metadata": {},
     "output_type": "display_data"
    }
   ],
   "source": [
    "merge_data = pd.merge(df, dh, on=['Passengerid'], how='outer')\n",
    "merged_df = pd.merge(\n",
    "    merge_data[['Passengerid', 'Survived', 'Embarked']],\n",
    "    dg[['Passengerid', 'Survived', 'Embarked']],\n",
    "    how='outer'\n",
    ")\n",
    "\n",
    "# Calculate survival rate by embarkation point\n",
    "survival_rate = merged_df.groupby('Embarked')['Survived'].mean().reset_index()\n",
    "survival_rate['Survival Rate (%)'] = survival_rate['Survived'] * 100\n",
    "\n",
    "# Print the survival rates\n",
    "print(survival_rate)\n",
    "\n",
    "# Plotting the survival rate by embarkation point\n",
    "sns.barplot(data=survival_rate, x='Embarked', y='Survival Rate (%)')\n",
    "plt.title('Embarked vs Survival Rate')\n",
    "plt.ylabel('Survival Rate (%)')\n",
    "plt.xlabel('Embarked')\n",
    "plt.savefig(\"Embarked_vs_survivors.png\", dpi=300, bbox_inches=\"tight\")\n",
    "plt.show()\n",
    "plt.close()"
   ]
  },
  {
   "cell_type": "markdown",
   "id": "ccde84a4",
   "metadata": {},
   "source": [
    " 6. Did assigned Cabin affect in Survival Rate ?"
   ]
  },
  {
   "cell_type": "code",
   "execution_count": 46,
   "id": "fefe995a",
   "metadata": {},
   "outputs": [
    {
     "name": "stdout",
     "output_type": "stream",
     "text": [
      "    HasCabin  Survived  Survival Rate (%)\n",
      "0  Had Cabin  0.519608          51.960784\n",
      "1   No Cabin  0.250364          25.036390\n"
     ]
    },
    {
     "data": {
      "image/png": "[encoded data removed]",
      "text/plain": [
       "<Figure size 640x480 with 1 Axes>"
      ]
     },
     "metadata": {},
     "output_type": "display_data"
    }
   ],
   "source": [
    "\n",
    "\n",
    "# Assuming df, dh, and dg are defined and contain the relevant data\n",
    "\n",
    "# Merging data\n",
    "merge_data = pd.merge(df, dh, on=['Passengerid'], how='outer')\n",
    "merged_df = pd.merge(\n",
    "    merge_data[['Passengerid', 'Survived', 'HasCabin']],\n",
    "    dg[['Passengerid', 'Survived', 'HasCabin']],\n",
    "    how='outer'\n",
    ")\n",
    "\n",
    "# Calculate survival rate by cabin presence\n",
    "survival_rate = merged_df.groupby('HasCabin')['Survived'].mean().reset_index()\n",
    "survival_rate['Survival Rate (%)'] = survival_rate['Survived'] * 100\n",
    "\n",
    "# Print the survival rates\n",
    "print(survival_rate)\n",
    "\n",
    "# Plotting the survival rate by cabin presence\n",
    "sns.barplot(data=survival_rate, x='HasCabin', y='Survival Rate (%)')\n",
    "plt.title('HasCabin vs Survival Rate')\n",
    "plt.ylabel('Survival Rate (%)')\n",
    "plt.xlabel('Has Cabin')\n",
    "plt.savefig(\"Cabin_vs_survivors.png\", dpi=300, bbox_inches=\"tight\")\n",
    "plt.show()\n",
    "plt.close()"
   ]
  },
  {
   "cell_type": "markdown",
   "id": "15f7bb27",
   "metadata": {},
   "source": [
    "Which group (GenderClass) had the highest survival rate?"
   ]
  },
  {
   "cell_type": "code",
   "execution_count": 47,
   "id": "f1751a22",
   "metadata": {},
   "outputs": [
    {
     "name": "stdout",
     "output_type": "stream",
     "text": [
      "  GenderClass  Survived  Survival Rate (%)\n",
      "0     female1  0.744681          74.468085\n",
      "1     female2  0.763158          76.315789\n",
      "2     female3  0.430556          43.055556\n",
      "3       male1  0.303279          30.327869\n",
      "4       male2  0.129630          12.962963\n",
      "5       male3  0.106628          10.662824\n"
     ]
    },
    {
     "data": {
      "image/png": "[encoded data removed]",
      "text/plain": [
       "<Figure size 640x480 with 1 Axes>"
      ]
     },
     "metadata": {},
     "output_type": "display_data"
    }
   ],
   "source": [
    "merge_data = pd.merge(df, dh, on=['Passengerid'], how='outer')\n",
    "merged_df = pd.merge(\n",
    "\tmerge_data[['Passengerid', 'Survived', 'GenderClass']],\n",
    "\tdg[['Passengerid', 'Survived', 'GenderClass']],\n",
    "\thow='outer'\n",
    ")\n",
    "survival_rate = merged_df.groupby('GenderClass')['Survived'].mean().reset_index()\n",
    "survival_rate['Survival Rate (%)'] = survival_rate['Survived'] * 100\n",
    "print(survival_rate)\n",
    "survival_rate_sorted = survival_rate.sort_values(by='Survival Rate (%)', ascending=False)\n",
    "sns.barplot(data=survival_rate_sorted, x='GenderClass', y='Survival Rate (%)')\n",
    "plt.title(\"Age Group Vs Survivors\")\n",
    "plt.savefig(\"AgeGroup_vs_survivors.png\", dpi=300, bbox_inches=\"tight\")\n",
    "plt.show()\n",
    "plt.close()"
   ]
  },
  {
   "cell_type": "markdown",
   "id": "01439ea3",
   "metadata": {},
   "source": [
    "Is Fare have any impact on Survival rate?"
   ]
  },
  {
   "cell_type": "code",
   "execution_count": 48,
   "id": "00d99169",
   "metadata": {},
   "outputs": [
    {
     "name": "stdout",
     "output_type": "stream",
     "text": [
      "     FareGroup  Survived  Survival Rate (%)\n",
      "0         High  0.474886          47.488584\n",
      "1          Low  0.185654          18.565401\n",
      "2  Medium-High  0.374429          37.442922\n",
      "3   Medium-Low  0.222222          22.222222\n"
     ]
    },
    {
     "data": {
      "image/png": "[encoded data removed]",
      "text/plain": [
       "<Figure size 640x480 with 1 Axes>"
      ]
     },
     "metadata": {},
     "output_type": "display_data"
    }
   ],
   "source": [
    "merge_data = pd.merge(df, dh, on=['Passengerid'], how='outer')\n",
    "merged_df = pd.merge(\n",
    "\tmerge_data[['Passengerid', 'Survived', 'FareGroup']],\n",
    "\tdg[['Passengerid', 'Survived','FareGroup']],\n",
    "\thow='outer'\n",
    ")\n",
    "survival_rate = merged_df.groupby('FareGroup')['Survived'].mean().reset_index()\n",
    "survival_rate['Survival Rate (%)'] = survival_rate['Survived'] * 100\n",
    "print(survival_rate)\n",
    "\n",
    "survival_rate_sorted = survival_rate.sort_values(by='Survival Rate (%)', ascending=False)\n",
    "sns.barplot(data=survival_rate_sorted, x='FareGroup', y='Survival Rate (%)')\n",
    "plt.title(\"Fare Vs Survivors\")\n",
    "plt.savefig(\"Fare_vs_survivors.png\", dpi=300, bbox_inches=\"tight\")\n",
    "plt.show()\n",
    "plt.close()"
   ]
  }
 ],
 "metadata": {
  "kernelspec": {
   "display_name": "profiling",
   "language": "python",
   "name": "python3"
  },
  "language_info": {
   "codemirror_mode": {
    "name": "ipython",
    "version": 3
   },
   "file_extension": ".py",
   "mimetype": "text/x-python",
   "name": "python",
   "nbconvert_exporter": "python",
   "pygments_lexer": "ipython3",
   "version": "3.11.13"
  }
 },
 "nbformat": 4,
 "nbformat_minor": 5
}
